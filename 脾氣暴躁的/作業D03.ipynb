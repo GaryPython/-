{
  "nbformat": 4,
  "nbformat_minor": 0,
  "metadata": {
    "colab": {
      "name": "作業_D03.ipynb",
      "provenance": [],
      "collapsed_sections": [],
      "include_colab_link": true
    },
    "kernelspec": {
      "name": "python3",
      "display_name": "Python 3"
    }
  },
  "cells": [
    {
      "cell_type": "markdown",
      "metadata": {
        "id": "view-in-github",
        "colab_type": "text"
      },
      "source": [
        "<a href=\"https://colab.research.google.com/github/GaryPython/Data-science-marathon/blob/main/%E4%BD%9C%E6%A5%AD_D03.ipynb\" target=\"_parent\"><img src=\"https://colab.research.google.com/assets/colab-badge.svg\" alt=\"Open In Colab\"/></a>"
      ]
    },
    {
      "cell_type": "markdown",
      "metadata": {
        "id": "rY2oyzUo2wKZ"
      },
      "source": [
        "作業目標:<br>\r\n",
        "嘗試練習log的函式並應用<br>\r\n",
        "作業重點:<br>\r\n",
        "學員需要複習log的轉換方式<br>\r\n",
        "熟悉運用指數函數以及對數函數"
      ]
    },
    {
      "cell_type": "markdown",
      "metadata": {
        "id": "Esjhs7zz2y95"
      },
      "source": [
        "題目:<br>\r\n",
        "運用投影片中的分貝公式回答下列問題。<br>\r\n",
        "1.正常的談話的聲壓為20000微巴斯卡，請問多少分貝?<br>\r\n",
        "2.30分貝的聲壓會是50分貝的幾倍?\r\n"
      ]
    },
    {
      "cell_type": "code",
      "metadata": {
        "id": "SKVoN9E82yQi"
      },
      "source": [
        "import numpy as np "
      ],
      "execution_count": 2,
      "outputs": []
    },
    {
      "cell_type": "code",
      "metadata": {
        "id": "knBzIEbisYO_",
        "colab": {
          "base_uri": "https://localhost:8080/"
        },
        "outputId": "b2bc1a03-6429-4d12-d908-1481ddf350be"
      },
      "source": [
        "#1.正常的談話的聲壓為20000微巴斯卡，請問多少分貝?\r\n",
        "#請寫下程式\r\n",
        "V1 = 20000\r\n",
        "V0 = 20\r\n",
        "v = V1 / V0\r\n",
        "log = np.log10(v)\r\n",
        "g = 20*log\r\n",
        "g"
      ],
      "execution_count": 3,
      "outputs": [
        {
          "output_type": "execute_result",
          "data": {
            "text/plain": [
              "60.0"
            ]
          },
          "metadata": {
            "tags": []
          },
          "execution_count": 3
        }
      ]
    },
    {
      "cell_type": "code",
      "metadata": {
        "id": "5Vknqg8esbl_",
        "colab": {
          "base_uri": "https://localhost:8080/"
        },
        "outputId": "072a392f-fb20-4a65-c761-fe1eada9b6b3"
      },
      "source": [
        "#2.30分貝的聲壓會是50分貝的幾倍?\r\n",
        "#公式移項過後可以得到 V1 = ?\r\n",
        "#請寫下程式\r\n",
        " \r\n",
        "v1_50 = 20*10**(50 / 20)\r\n",
        "v1_30 = 20*10**(30 / 20)\r\n",
        "ans = v1_50 / v1_30\r\n",
        "ans"
      ],
      "execution_count": 9,
      "outputs": [
        {
          "output_type": "execute_result",
          "data": {
            "text/plain": [
              "10.000000000000002"
            ]
          },
          "metadata": {
            "tags": []
          },
          "execution_count": 9
        }
      ]
    },
    {
      "cell_type": "code",
      "metadata": {
        "id": "LjGnv4Q-1t7u"
      },
      "source": [
        ""
      ],
      "execution_count": null,
      "outputs": []
    }
  ]
}
