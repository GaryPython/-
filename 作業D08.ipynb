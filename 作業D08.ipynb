{
  "nbformat": 4,
  "nbformat_minor": 0,
  "metadata": {
    "colab": {
      "name": "作業D08.ipynb",
      "provenance": [],
      "collapsed_sections": [],
      "include_colab_link": true
    },
    "kernelspec": {
      "name": "python3",
      "display_name": "Python 3"
    }
  },
  "cells": [
    {
      "cell_type": "markdown",
      "metadata": {
        "id": "view-in-github",
        "colab_type": "text"
      },
      "source": [
        "<a href=\"https://colab.research.google.com/github/GaryPython/Data-science-marathon/blob/main/%E4%BD%9C%E6%A5%ADD08.ipynb\" target=\"_parent\"><img src=\"https://colab.research.google.com/assets/colab-badge.svg\" alt=\"Open In Colab\"/></a>"
      ]
    },
    {
      "cell_type": "markdown",
      "metadata": {
        "id": "9qndwAG5UAKi"
      },
      "source": [
        "作業目標<br>\r\n",
        "在一個陣列中放入多屬性陣列，進一步對陣列做運算<br>\r\n",
        "作業重點<br>\r\n",
        "在建立結構化陣列前需要先設定屬性，在做運算時須注意資料屬性"
      ]
    },
    {
      "cell_type": "markdown",
      "metadata": {
        "id": "48DhzHvBUB2c"
      },
      "source": [
        "題目:<br>\r\n",
        "name_list = ['小明','小華','小菁','小美','小張','John','Mark','Tom']<br>\r\n",
        "sex_list = ['boy','boy','girl','girl','boy','boy','boy','boy']<br>\r\n",
        "weight_list = [67.5,75.3,50.1,45.5,80.8,90.4,78.4,70.7]<br>\r\n",
        "rank_list = [8,1,5,4,7,6,2,3]<br>\r\n",
        "myopia_list = [True,True,False,False,True,True,False,False]<br>\r\n",
        "1. 將上列list依照['name', 'sex', 'weight', 'rank', 'myopia']順序擺入array，並且資料型態順序擺入[Unicode,Unicode,float,int,boolean]<br>\r\n",
        "2. 呈上題，將array中體重(weight)數據集取出算出全部平均體重\r\n",
        "3. 呈上題，進一步算出男生(sex欄位是boy)平均體重、女生(sex欄位是girl)平均體重\r\n"
      ]
    },
    {
      "cell_type": "code",
      "metadata": {
        "id": "5n4rAx-9VgVr"
      },
      "source": [
        "import numpy as np "
      ],
      "execution_count": 2,
      "outputs": []
    },
    {
      "cell_type": "code",
      "metadata": {
        "id": "Vl-wSYQdUBcw"
      },
      "source": [
        "name_list = ['小明','小華','小菁','小美','小張','John','Mark','Tom']\r\n",
        "sex_list = ['boy','boy','girl','girl','boy','boy','boy','boy']\r\n",
        "weight_list = [67.5,75.3,50.1,45.5,80.8,90.4,78.4,70.7]\r\n",
        "rank_list = [8,1,5,4,7,6,2,3]\r\n",
        "myopia_list = [True,True,False,False,True,True,False,False]"
      ],
      "execution_count": 3,
      "outputs": []
    },
    {
      "cell_type": "code",
      "metadata": {
        "id": "ElavkYgwVftG"
      },
      "source": [
        "#1. 將上列list依照['name', 'sex', 'weight', 'rank', 'myopia']順序擺入array，並且資料型態順序擺入[Unicode,Unicode,float,int,boolean]"
      ],
      "execution_count": null,
      "outputs": []
    },
    {
      "cell_type": "code",
      "metadata": {
        "id": "C8JvpddZvszR"
      },
      "source": [
        "student_type = {'names':('name', 'sex', 'weight', 'rank', 'myopia'), 'formats':('U10','U6','f8','i4','?')}\n",
        "students = np.zeros(8,dtype=student_type)\n",
        "students['name'] = name_list\n",
        "students['sex'] = sex_list\n",
        "students['weight'] = weight_list\n",
        "students['rank'] = rank_list\n",
        "students['myopia'] = myopia_list"
      ],
      "execution_count": 6,
      "outputs": []
    },
    {
      "cell_type": "code",
      "metadata": {
        "colab": {
          "base_uri": "https://localhost:8080/"
        },
        "id": "_aqBbje8wkyk",
        "outputId": "7b4ab05d-eb34-49b6-e9f7-056acf71df0c"
      },
      "source": [
        "students"
      ],
      "execution_count": 7,
      "outputs": [
        {
          "output_type": "execute_result",
          "data": {
            "text/plain": [
              "array([('小明', 'boy', 67.5, 8,  True), ('小華', 'boy', 75.3, 1,  True),\n",
              "       ('小菁', 'girl', 50.1, 5, False), ('小美', 'girl', 45.5, 4, False),\n",
              "       ('小張', 'boy', 80.8, 7,  True), ('John', 'boy', 90.4, 6,  True),\n",
              "       ('Mark', 'boy', 78.4, 2, False), ('Tom', 'boy', 70.7, 3, False)],\n",
              "      dtype=[('name', '<U10'), ('sex', '<U6'), ('weight', '<f8'), ('rank', '<i4'), ('myopia', '?')])"
            ]
          },
          "metadata": {
            "tags": []
          },
          "execution_count": 7
        }
      ]
    },
    {
      "cell_type": "code",
      "metadata": {
        "id": "N-xffNSVWbP1",
        "colab": {
          "base_uri": "https://localhost:8080/"
        },
        "outputId": "3f33b645-6d7b-4d3d-ef46-e6a6639ec9b1"
      },
      "source": [
        "#2. 呈上題，將array中體重(weight)數據集取出算出全部平均體重\n",
        "np.mean(students['weight'])"
      ],
      "execution_count": 5,
      "outputs": [
        {
          "output_type": "execute_result",
          "data": {
            "text/plain": [
              "69.8375"
            ]
          },
          "metadata": {
            "tags": []
          },
          "execution_count": 5
        }
      ]
    },
    {
      "cell_type": "code",
      "metadata": {
        "id": "_LhLg8RiWwEm",
        "colab": {
          "base_uri": "https://localhost:8080/"
        },
        "outputId": "2d0efd9e-425c-4756-d445-01e6758ad20d"
      },
      "source": [
        "#3. 呈上題，進一步算出男生(sex欄位是boy)平均體重\n",
        "boy_index = np.where(students['sex']=='boy')\n",
        "print(boy_index)\n",
        "np.mean(students['weight'][boy_index])"
      ],
      "execution_count": 13,
      "outputs": [
        {
          "output_type": "stream",
          "text": [
            "(array([0, 1, 4, 5, 6, 7]),)\n"
          ],
          "name": "stdout"
        },
        {
          "output_type": "execute_result",
          "data": {
            "text/plain": [
              "77.18333333333332"
            ]
          },
          "metadata": {
            "tags": []
          },
          "execution_count": 13
        }
      ]
    },
    {
      "cell_type": "code",
      "metadata": {
        "id": "f_J05IPxX6fg"
      },
      "source": [
        "#3. 呈上題，進一步算出女生(sex欄位是girl)平均體重"
      ],
      "execution_count": null,
      "outputs": []
    },
    {
      "cell_type": "code",
      "metadata": {
        "id": "eX63rZnX3d5O",
        "colab": {
          "base_uri": "https://localhost:8080/"
        },
        "outputId": "141de8be-c057-4a5a-f6fd-0eca0565c478"
      },
      "source": [
        "boy_index = np.where(students['sex']=='girl')[0]\n",
        "np.mean(students['weight'][boy_index])"
      ],
      "execution_count": 9,
      "outputs": [
        {
          "output_type": "execute_result",
          "data": {
            "text/plain": [
              "47.8"
            ]
          },
          "metadata": {
            "tags": []
          },
          "execution_count": 9
        }
      ]
    },
    {
      "cell_type": "code",
      "metadata": {
        "id": "xMWNLfdMxSME"
      },
      "source": [
        ""
      ],
      "execution_count": null,
      "outputs": []
    }
  ]
}