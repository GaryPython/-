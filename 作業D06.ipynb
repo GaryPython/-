{
  "nbformat": 4,
  "nbformat_minor": 0,
  "metadata": {
    "colab": {
      "name": "作業D06.ipynb",
      "provenance": [],
      "collapsed_sections": [],
      "include_colab_link": true
    },
    "kernelspec": {
      "name": "python3",
      "display_name": "Python 3"
    }
  },
  "cells": [
    {
      "cell_type": "markdown",
      "metadata": {
        "id": "view-in-github",
        "colab_type": "text"
      },
      "source": [
        "<a href=\"https://colab.research.google.com/github/GaryPython/Data-science-marathon/blob/main/%E4%BD%9C%E6%A5%ADD06.ipynb\" target=\"_parent\"><img src=\"https://colab.research.google.com/assets/colab-badge.svg\" alt=\"Open In Colab\"/></a>"
      ]
    },
    {
      "cell_type": "code",
      "metadata": {
        "id": "jbkK8wprdbdY"
      },
      "source": [
        ""
      ],
      "execution_count": null,
      "outputs": []
    },
    {
      "cell_type": "markdown",
      "metadata": {
        "id": "YWb4mnd4fqAG"
      },
      "source": [
        "作業目標<br>\r\n",
        "讀取存取陣列資料<br>\r\n",
        "作業重點<br>\r\n",
        "多陣列存一起需要存成npz，讀取須注意npz中有多個陣列"
      ]
    },
    {
      "cell_type": "markdown",
      "metadata": {
        "id": "UXV4vW6IfsW6"
      },
      "source": [
        "題目:<br>\r\n",
        "1. 將下兩列array存成npz檔<br>\r\n",
        "array1 = np.array(range(30))<br>\r\n",
        "array2 = np.array([2,3,5])<br>\r\n",
        "2. 讀取剛剛的npz檔，加入下列array一起存成新的npz檔\r\n"
      ]
    },
    {
      "cell_type": "code",
      "metadata": {
        "id": "Qa8P0OOkzxYh"
      },
      "source": [
        "import numpy as np\n"
      ],
      "execution_count": 2,
      "outputs": []
    },
    {
      "cell_type": "code",
      "metadata": {
        "id": "1mZQSUx_fry7"
      },
      "source": [
        "#. 將下兩列array存成npz檔\r\n",
        "array1 = np.array(range(30))\r\n",
        "array2 = np.array([2,3,5])"
      ],
      "execution_count": 3,
      "outputs": []
    },
    {
      "cell_type": "code",
      "metadata": {
        "id": "h-m8gk_Cz2ZG"
      },
      "source": [
        "with open('work_array.npz', 'wb') as f:\n",
        "    np.savez(f, array1=array1, array2=array2)"
      ],
      "execution_count": 4,
      "outputs": []
    },
    {
      "cell_type": "code",
      "metadata": {
        "colab": {
          "base_uri": "https://localhost:8080/"
        },
        "id": "8VKDnn-40vb2",
        "outputId": "779f7776-e1bf-46f5-b9b3-1b53478e22d7"
      },
      "source": [
        "npzfile = np.load('work_array.npz')\n",
        "type(npzfile)"
      ],
      "execution_count": 9,
      "outputs": [
        {
          "output_type": "execute_result",
          "data": {
            "text/plain": [
              "numpy.lib.npyio.NpzFile"
            ]
          },
          "metadata": {
            "tags": []
          },
          "execution_count": 9
        }
      ]
    },
    {
      "cell_type": "code",
      "metadata": {
        "colab": {
          "base_uri": "https://localhost:8080/"
        },
        "id": "4zadNI_41WSn",
        "outputId": "40e0443c-518e-480b-96f7-39af9608c81d"
      },
      "source": [
        "npzfile.files"
      ],
      "execution_count": 10,
      "outputs": [
        {
          "output_type": "execute_result",
          "data": {
            "text/plain": [
              "['array1', 'array2']"
            ]
          },
          "metadata": {
            "tags": []
          },
          "execution_count": 10
        }
      ]
    },
    {
      "cell_type": "code",
      "metadata": {
        "colab": {
          "base_uri": "https://localhost:8080/"
        },
        "id": "EuojYcAC1ZpR",
        "outputId": "36f841bc-adec-4354-f5f8-de3b1c4bd5ae"
      },
      "source": [
        "print(npzfile['array1'])\n",
        "print(npzfile['array2'])"
      ],
      "execution_count": 11,
      "outputs": [
        {
          "output_type": "stream",
          "text": [
            "[ 0  1  2  3  4  5  6  7  8  9 10 11 12 13 14 15 16 17 18 19 20 21 22 23\n",
            " 24 25 26 27 28 29]\n",
            "[2 3 5]\n"
          ],
          "name": "stdout"
        }
      ]
    },
    {
      "cell_type": "code",
      "metadata": {
        "colab": {
          "base_uri": "https://localhost:8080/"
        },
        "id": "HTSmjTUxztws",
        "outputId": "17df1519-9ce0-4275-b1c3-c4970ba283ad"
      },
      "source": [
        "!ls"
      ],
      "execution_count": 5,
      "outputs": [
        {
          "output_type": "stream",
          "text": [
            "sample_data  work_array.npz\n"
          ],
          "name": "stdout"
        }
      ]
    },
    {
      "cell_type": "code",
      "metadata": {
        "id": "Ie1TGcssiIDN"
      },
      "source": [
        "#2. 讀取剛剛的npz檔，加入下列array一起存成新的npz檔"
      ],
      "execution_count": null,
      "outputs": []
    },
    {
      "cell_type": "code",
      "metadata": {
        "id": "XQhKO1ep1ezS"
      },
      "source": [
        ""
      ],
      "execution_count": null,
      "outputs": []
    }
  ]
}