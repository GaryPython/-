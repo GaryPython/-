{
  "nbformat": 4,
  "nbformat_minor": 0,
  "metadata": {
    "colab": {
      "name": "計算函式及工具作業題目.ipynb",
      "provenance": [],
      "collapsed_sections": [],
      "include_colab_link": true
    },
    "kernelspec": {
      "name": "python3",
      "display_name": "Python 3"
    }
  },
  "cells": [
    {
      "cell_type": "markdown",
      "metadata": {
        "id": "view-in-github",
        "colab_type": "text"
      },
      "source": [
        "<a href=\"https://colab.research.google.com/github/GaryPython/Data-science-marathon/blob/main/%E8%A8%88%E7%AE%97%E5%87%BD%E5%BC%8F%E4%BD%9C%E6%A5%ADD13.ipynb\" target=\"_parent\"><img src=\"https://colab.research.google.com/assets/colab-badge.svg\" alt=\"Open In Colab\"/></a>"
      ]
    },
    {
      "cell_type": "markdown",
      "metadata": {
        "id": "QSGBlxpAWNEz"
      },
      "source": [
        "作業目標:<br>\r\n",
        "1. 敘述統計量計算<br>\r\n",
        "2. 運用自定義函數apply"
      ]
    },
    {
      "cell_type": "markdown",
      "metadata": {
        "id": "1Pl9tfEoWow-"
      },
      "source": [
        "作業重點:<br>\r\n",
        "1. 了解敘述統計量並解釋<br>\r\n",
        "2. 運用apply時須注意自定義函數寫法"
      ]
    },
    {
      "cell_type": "markdown",
      "metadata": {
        "id": "vKZoLUflW-A2"
      },
      "source": [
        "題目<br>\n",
        "對以下成績資料做分析<br>\n",
        "1. 6號學生(student_id=6)3科平均分數為何?<br>\n",
        "2. 6號學生3科平均分數是否有贏過班上一半的同學?<br>\n",
        "3. 由於班上同學成績不好，所以學校統一加分，加分方式為開根號乘以十，請問6號同學3科成績分別是?<br>\n",
        "4. 承上題，加分後各科班平均變多少?\n",
        "<br>\n",
        "score_df = pd.DataFrame([[1,56,66,70], \n",
        "              [2,90,45,34],\n",
        "              [3,45,32,55],\n",
        "              [4,70,77,89],\n",
        "              [5,56,80,70],\n",
        "              [6,60,54,55],\n",
        "              [7,45,70,79],\n",
        "              [8,34,77,76],\n",
        "              [9,25,87,60],\n",
        "              [10,88,40,43]],columns=['student_id','math_score','english_score','chinese_score'])"
      ]
    },
    {
      "cell_type": "code",
      "metadata": {
        "colab": {
          "base_uri": "https://localhost:8080/"
        },
        "id": "cQGrCL4-YxE6",
        "outputId": "26e2e88b-8ca7-4236-972a-67c544145e99"
      },
      "source": [
        "import pandas as pd\n",
        "score_df = pd.DataFrame([[1,56,66,70], \n",
        "              [2,90,45,34],\n",
        "              [3,45,32,55],\n",
        "              [4,70,77,89],\n",
        "              [5,56,80,70],\n",
        "              [6,60,54,55],\n",
        "              [7,45,70,79],\n",
        "              [8,34,77,76],\n",
        "              [9,25,87,60],\n",
        "              [10,88,40,43]],columns=['student_id','math_score','english_score','chinese_score'])\n",
        "score_df = score_df.set_index('student_id')\n",
        "print(score_df)\n",
        "print(score_df.loc[1])"
      ],
      "execution_count": 60,
      "outputs": [
        {
          "output_type": "stream",
          "text": [
            "            math_score  english_score  chinese_score\n",
            "student_id                                          \n",
            "1                   56             66             70\n",
            "2                   90             45             34\n",
            "3                   45             32             55\n",
            "4                   70             77             89\n",
            "5                   56             80             70\n",
            "6                   60             54             55\n",
            "7                   45             70             79\n",
            "8                   34             77             76\n",
            "9                   25             87             60\n",
            "10                  88             40             43\n",
            "math_score       56\n",
            "english_score    66\n",
            "chinese_score    70\n",
            "Name: 1, dtype: int64\n"
          ],
          "name": "stdout"
        }
      ]
    },
    {
      "cell_type": "code",
      "metadata": {
        "id": "qNfiH_CnY3Us"
      },
      "source": [
        "#1.score_df.mean(axis=1)為何?"
      ],
      "execution_count": null,
      "outputs": []
    },
    {
      "cell_type": "code",
      "metadata": {
        "colab": {
          "base_uri": "https://localhost:8080/"
        },
        "id": "gdiumOtbUuKT",
        "outputId": "49451fde-6462-4216-f8c5-98faf067909a"
      },
      "source": [
        "score_mean = score_df.mean(axis=1)\r\n",
        "print(score_mean)\r\n",
        "print(score_mean[6])\r\n",
        "print(\"6號學生平均分數:\" ,score_mean.loc[6])"
      ],
      "execution_count": 62,
      "outputs": [
        {
          "output_type": "stream",
          "text": [
            "student_id\n",
            "1     64.000000\n",
            "2     56.333333\n",
            "3     44.000000\n",
            "4     78.666667\n",
            "5     68.666667\n",
            "6     56.333333\n",
            "7     64.666667\n",
            "8     62.333333\n",
            "9     57.333333\n",
            "10    57.000000\n",
            "dtype: float64\n",
            "56.333333333333336\n",
            "6號學生平均分數: 56.333333333333336\n"
          ],
          "name": "stdout"
        }
      ]
    },
    {
      "cell_type": "code",
      "metadata": {
        "id": "O-TfIm7oaAao",
        "colab": {
          "base_uri": "https://localhost:8080/"
        },
        "outputId": "fa34cfe3-b96c-4d7c-d382-8876902757bf"
      },
      "source": [
        "#2. 6號學生3科平均分數是否有贏過班上一半的同學\r\n",
        "score_mean.median()"
      ],
      "execution_count": 17,
      "outputs": [
        {
          "output_type": "execute_result",
          "data": {
            "text/plain": [
              "59.833333333333336"
            ]
          },
          "metadata": {
            "tags": []
          },
          "execution_count": 17
        }
      ]
    },
    {
      "cell_type": "markdown",
      "metadata": {
        "id": "RDEauvzKbcLO"
      },
      "source": [
        "[索引](https://ithelp.ithome.com.tw/articles/10194006)"
      ]
    },
    {
      "cell_type": "code",
      "metadata": {
        "id": "QNA0WHCIapPB",
        "colab": {
          "base_uri": "https://localhost:8080/"
        },
        "outputId": "0a893e50-7520-40f7-ec43-1ecb89f0e1f0"
      },
      "source": [
        "#由於班上同學成績不好，所以學校統一加分，加分方式為開根號乘以十，請問6號同學3科成績分別是?\r\n",
        "score_apply = score_df.apply(lambda x : x**(0.5)*10)\r\n",
        "print(score_apply)\r\n",
        "#print(score_apply.loc[[6,8]])\r\n",
        "#print(score_apply.loc[[6],[\"math_score\"]])\r\n",
        "\r\n",
        "print(score_apply.iloc[5:7])\r\n",
        "print(score_apply.iloc[[5],[1]])\r\n"
      ],
      "execution_count": 58,
      "outputs": [
        {
          "output_type": "stream",
          "text": [
            "            math_score  english_score  chinese_score\n",
            "student_id                                          \n",
            "1            74.833148      81.240384      83.666003\n",
            "2            94.868330      67.082039      58.309519\n",
            "3            67.082039      56.568542      74.161985\n",
            "4            83.666003      87.749644      94.339811\n",
            "5            74.833148      89.442719      83.666003\n",
            "6            77.459667      73.484692      74.161985\n",
            "7            67.082039      83.666003      88.881944\n",
            "8            58.309519      87.749644      87.177979\n",
            "9            50.000000      93.273791      77.459667\n",
            "10           93.808315      63.245553      65.574385\n",
            "            math_score  english_score  chinese_score\n",
            "student_id                                          \n",
            "6            77.459667      73.484692      74.161985\n",
            "7            67.082039      83.666003      88.881944\n",
            "            english_score\n",
            "student_id               \n",
            "6               73.484692\n"
          ],
          "name": "stdout"
        }
      ]
    },
    {
      "cell_type": "code",
      "metadata": {
        "id": "BG_bdbRFa6X4"
      },
      "source": [
        "#承上題，加分後各科班平均變多少"
      ],
      "execution_count": null,
      "outputs": []
    },
    {
      "cell_type": "code",
      "metadata": {
        "id": "2ZtRukpObNZx",
        "colab": {
          "base_uri": "https://localhost:8080/"
        },
        "outputId": "21d67aab-2912-4580-8314-344df8a1f65b"
      },
      "source": [
        "score_apply.mean()"
      ],
      "execution_count": 26,
      "outputs": [
        {
          "output_type": "execute_result",
          "data": {
            "text/plain": [
              "math_score       74.194221\n",
              "english_score    78.350301\n",
              "chinese_score    78.739928\n",
              "dtype: float64"
            ]
          },
          "metadata": {
            "tags": []
          },
          "execution_count": 26
        }
      ]
    },
    {
      "cell_type": "code",
      "metadata": {
        "id": "norc9HTaYHd8"
      },
      "source": [
        ""
      ],
      "execution_count": null,
      "outputs": []
    }
  ]
}
