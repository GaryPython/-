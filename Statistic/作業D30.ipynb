{
  "nbformat": 4,
  "nbformat_minor": 0,
  "metadata": {
    "colab": {
      "name": "作業D30.ipynb",
      "provenance": [],
      "collapsed_sections": [],
      "include_colab_link": true
    },
    "kernelspec": {
      "display_name": "Python 3",
      "language": "python",
      "name": "python3"
    },
    "language_info": {
      "codemirror_mode": {
        "name": "ipython",
        "version": 3
      },
      "file_extension": ".py",
      "mimetype": "text/x-python",
      "name": "python",
      "nbconvert_exporter": "python",
      "pygments_lexer": "ipython3",
      "version": "3.6.1"
    }
  },
  "cells": [
    {
      "cell_type": "markdown",
      "metadata": {
        "id": "view-in-github",
        "colab_type": "text"
      },
      "source": [
        "<a href=\"https://colab.research.google.com/github/GaryPython/Data-science-marathon/blob/main/Statistic/%E4%BD%9C%E6%A5%ADD30.ipynb\" target=\"_parent\"><img src=\"https://colab.research.google.com/assets/colab-badge.svg\" alt=\"Open In Colab\"/></a>"
      ]
    },
    {
      "cell_type": "markdown",
      "metadata": {
        "id": "jTtp-BeSTjV4"
      },
      "source": [
        "## 作業:\n",
        "\n",
        "電影院裡通常都是成對情侶一起去看，假設電影院中有100 個人裡面，有 90 名男性和 10 名女性。在這 10 名女性裡，有一半的人有長髮（5 人），另一半有短髮（5人）；在 90 名男性當中，81 個人有短髮，9個人有長髮。\n",
        "\n",
        "![](Q1.png)"
      ]
    },
    {
      "cell_type": "markdown",
      "metadata": {
        "id": "vaBQu84MTjV6"
      },
      "source": [
        "### Q1: 所以根據這個情況條件下，你會預測照片中的長髮是男性或女性(直覺回答)?"
      ]
    },
    {
      "cell_type": "code",
      "metadata": {
        "id": "_PzomwL6TjV7",
        "outputId": "5214a5f6-63eb-4853-a067-63431cf55841"
      },
      "source": [
        "'''\n",
        "你的答案\n",
        "'''\n",
        "\n",
        "女"
      ],
      "execution_count": null,
      "outputs": [
        {
          "output_type": "execute_result",
          "data": {
            "text/plain": [
              "'\\n你的答案\\n'"
            ]
          },
          "metadata": {
            "tags": []
          },
          "execution_count": 10
        }
      ]
    },
    {
      "cell_type": "markdown",
      "metadata": {
        "id": "bgFMBGWBTjV8"
      },
      "source": [
        "### Q2:以上圖資料，計算當你看到長髮時，是女生的機率?"
      ]
    },
    {
      "cell_type": "code",
      "metadata": {
        "colab": {
          "base_uri": "https://localhost:8080/"
        },
        "id": "H9IQtrS_YUAo",
        "outputId": "36d62237-802d-4573-f250-6583622bd9d5"
      },
      "source": [
        "def bayes_theorem(p_a, p_b_given_a, p_b_given_not_a):\r\n",
        "\t# calculate P(not A)\r\n",
        "\tnot_a = 1 - p_a\r\n",
        "\t# calculate P(B)\r\n",
        "\tp_b = p_b_given_a * p_a + p_b_given_not_a * not_a\r\n",
        "\t# calculate P(A|B)\r\n",
        "\tp_a_given_b = (p_b_given_a * p_a) / p_b\r\n",
        "\treturn p_a_given_b\r\n",
        " \r\n",
        "# P(A): P(女生)\r\n",
        "# P(not A): P(男生)\r\n",
        "p_a = 0.1\r\n",
        "# P(B|A): P(長髮|女生)\r\n",
        "p_b_given_a = 0.5\r\n",
        "# P(B|not A): P(長髮|男生)\r\n",
        "p_b_given_not_a = 0.1\r\n",
        "# calculate P(A|B): P(女生|長髮)\r\n",
        "result = bayes_theorem(p_a, p_b_given_a, p_b_given_not_a)\r\n",
        "# summarize\r\n",
        "# P(女生|長髮)\r\n",
        "print('P(A|B) = {0}'.format(round(result * 100,2)))"
      ],
      "execution_count": 7,
      "outputs": [
        {
          "output_type": "stream",
          "text": [
            "P(A|B) = 35.71\n"
          ],
          "name": "stdout"
        }
      ]
    },
    {
      "cell_type": "code",
      "metadata": {
        "colab": {
          "base_uri": "https://localhost:8080/"
        },
        "id": "wDWXBSF9TjV8",
        "outputId": "a135a4f6-c6fd-46ce-e31b-11d92904e317"
      },
      "source": [
        "'''\n",
        "這邊透過範例的程式碼進行撰寫\n",
        "'''\n",
        "\n",
        "\n",
        "def boy_girl(p_a, p_not_a, p_l_a, p_l_not_a):\n",
        "  result = p_l_a*p_a / (p_l_a*p_a + p_l_not_a*p_not_a)\n",
        "  return result\n",
        "\n",
        "p_a = 0.1#p(女)\n",
        "p_not_a = 0.9#p(男)\n",
        "p_l_a = 0.5#p(長|女)\n",
        "p_l_not_a = 0.1#p(長|男)\n",
        "ans = boy_girl(p_a, p_not_a, p_l_a, p_l_not_a)\n",
        "\n",
        "\n",
        "print('P(A|B) = {0}'.format(round(ans * 100,2)))"
      ],
      "execution_count": 8,
      "outputs": [
        {
          "output_type": "stream",
          "text": [
            "P(A|B) = 35.71\n"
          ],
          "name": "stdout"
        }
      ]
    },
    {
      "cell_type": "markdown",
      "metadata": {
        "id": "Hj_CXGdYTjV9"
      },
      "source": [
        "### Q3:你的決策因為男生女生比例不同(先驗分配不同)，和投影片的結果相比，決策有沒有改變?"
      ]
    },
    {
      "cell_type": "code",
      "metadata": {
        "id": "3F79nanbTjV9",
        "outputId": "6c392905-f890-4c6d-b2f7-ba4679810e43"
      },
      "source": [
        "'''\n",
        "你的答案\n",
        "'''\n",
        "因為人數上的差異所導致長髮男生的可能性大於女生"
      ],
      "execution_count": null,
      "outputs": [
        {
          "output_type": "execute_result",
          "data": {
            "text/plain": [
              "'\\n你的答案\\n'"
            ]
          },
          "metadata": {
            "tags": []
          },
          "execution_count": 12
        }
      ]
    }
  ]
}