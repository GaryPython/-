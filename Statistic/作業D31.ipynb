{
  "nbformat": 4,
  "nbformat_minor": 0,
  "metadata": {
    "colab": {
      "name": "作業D31.ipynb",
      "provenance": [],
      "collapsed_sections": [],
      "include_colab_link": true
    },
    "kernelspec": {
      "display_name": "Python 3",
      "language": "python",
      "name": "python3"
    },
    "language_info": {
      "codemirror_mode": {
        "name": "ipython",
        "version": 3
      },
      "file_extension": ".py",
      "mimetype": "text/x-python",
      "name": "python",
      "nbconvert_exporter": "python",
      "pygments_lexer": "ipython3",
      "version": "3.6.1"
    }
  },
  "cells": [
    {
      "cell_type": "markdown",
      "metadata": {
        "id": "view-in-github",
        "colab_type": "text"
      },
      "source": [
        "<a href=\"https://colab.research.google.com/github/GaryPython/Data-science-marathon/blob/main/Statistic/%E4%BD%9C%E6%A5%ADD31.ipynb\" target=\"_parent\"><img src=\"https://colab.research.google.com/assets/colab-badge.svg\" alt=\"Open In Colab\"/></a>"
      ]
    },
    {
      "cell_type": "markdown",
      "metadata": {
        "id": "AFy0u2CKrVWV"
      },
      "source": [
        "## 作業:\n",
        "今天學到 AB test中假設檢定的基本概念，最重要的就是如何將抽象情況數值化，\n",
        "並建立自已的 $H_0$ 與 $H_1$。\n",
        "透過作業來好好練習，概念懂了，後面幾堂課再帶大家運用 python 進行運算。\n"
      ]
    },
    {
      "cell_type": "markdown",
      "metadata": {
        "id": "JbfiFSCVrVWW"
      },
      "source": [
        "### Q1: 吃減肥藥能在一個月內瘦超過十公斤，研究人員想推翻第四台廣告業者的說法，請試著寫出 $H_0$ 與 $H_1$ 。\n"
      ]
    },
    {
      "cell_type": "code",
      "metadata": {
        "id": "xKR_16bjrVWX",
        "outputId": "361ce479-e0c0-456d-d0f3-1b68ee91f7a1"
      },
      "source": [
        "#Q1: 吃減肥藥能在一個月內瘦超過十公斤，研究人員想推翻第四台廣告業者的說法，請試著寫出 $H_0$ 與 $H_1$\n",
        "'''\n",
        "你的答案\n",
        "H0:吃減肥藥不能在一個月內瘦超過十公斤\n",
        "H1:吃減肥藥能在一個月內瘦超過十公斤\n",
        "'''"
      ],
      "execution_count": null,
      "outputs": [
        {
          "output_type": "execute_result",
          "data": {
            "text/plain": [
              "'\\n研究人員想推翻第四台廣告業者的說法，所以\\nH1: 吃減肥藥能在一個月內瘦\"不能\"超過十公斤(X<10)\\nH0: 吃減肥藥能在一個月內瘦\"能\"超過十公斤(X>=10)\\n'"
            ]
          },
          "metadata": {
            "tags": []
          },
          "execution_count": 2
        }
      ]
    },
    {
      "cell_type": "markdown",
      "metadata": {
        "id": "OH3rriEDrVWY"
      },
      "source": [
        "### Q2: 一位速食店店長認為其品牌在市場之佔有率至多為12%，於是該店長進行一個市場調查，一共訪問了3000為消費者，其中有311位表示喜歡該品牌，請試著寫出 $H_0$ 與 $H_1$ 。\n"
      ]
    },
    {
      "cell_type": "code",
      "metadata": {
        "id": "91etij4SrVWY",
        "outputId": "9936cf2f-0977-45cd-8b10-8291936488a7"
      },
      "source": [
        "#Q2: 一位速食店店長認為其品牌在市場之佔有率至多為12%，於是該店長進行一個市場調查，一共訪問了3000為消費者，其中有311位表示喜歡該品牌，請試著寫出 $H_0$ 與 $H_1$ 。\n",
        "'''\n",
        "你的答案\n",
        "H0:喜歡該品牌<=12%\n",
        "H1:不喜歡該品牌>12%\n",
        "\n",
        "'''"
      ],
      "execution_count": null,
      "outputs": [
        {
          "output_type": "execute_result",
          "data": {
            "text/plain": [
              "'\\n一位速食店店長認為其品牌在市場之佔有率至多 12%，做實驗是想驗證這件事情，所以\\nH1: 其品牌在市場之佔有率至多 12%(p<12%)\\nH0: 其品牌在市場之佔有率超過 12%(p>=12%)\\n'"
            ]
          },
          "metadata": {
            "tags": []
          },
          "execution_count": 3
        }
      ]
    }
  ]
}