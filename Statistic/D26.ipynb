{
  "nbformat": 4,
  "nbformat_minor": 0,
  "metadata": {
    "colab": {
      "name": "D26.ipynb",
      "provenance": [],
      "collapsed_sections": [],
      "include_colab_link": true
    },
    "kernelspec": {
      "display_name": "Python 3",
      "language": "python",
      "name": "python3"
    },
    "language_info": {
      "codemirror_mode": {
        "name": "ipython",
        "version": 3
      },
      "file_extension": ".py",
      "mimetype": "text/x-python",
      "name": "python",
      "nbconvert_exporter": "python",
      "pygments_lexer": "ipython3",
      "version": "3.6.1"
    }
  },
  "cells": [
    {
      "cell_type": "markdown",
      "metadata": {
        "id": "view-in-github",
        "colab_type": "text"
      },
      "source": [
        "<a href=\"https://colab.research.google.com/github/GaryPython/Data-science-marathon/blob/main/Statistic/D26.ipynb\" target=\"_parent\"><img src=\"https://colab.research.google.com/assets/colab-badge.svg\" alt=\"Open In Colab\"/></a>"
      ]
    },
    {
      "cell_type": "markdown",
      "metadata": {
        "id": "J_AGlB_GJgr6"
      },
      "source": [
        "## 作業:\n",
        "今天學到不同統計量之間特性，  \n",
        "試著分析男生女生身高資料，  \n",
        "試著回答下面的問題:  \n",
        "Q1:試著用今天所教的內容，如何描述這兩組資料的樣態?    \n",
        "Q2: 請問男生和女生在平均身高上誰比較高?   \n",
        "Q3:請問第二題的答案和日常生活中觀察的一致嗎? 如果不一致，你覺得原因可能為何?    \n",
        "上述問題透過  python 語法進行運算，\n",
        "並將上述答案填寫在 (google 表單)[https://forms.gle/EDdU2Zfq8zLvDea18]\n",
        "![](作業資料圖檔.PNG)"
      ]
    },
    {
      "cell_type": "code",
      "metadata": {
        "collapsed": true,
        "id": "yz28_IgkYdBW"
      },
      "source": [
        "# library\n",
        "import matplotlib.pyplot as plt\n",
        "import numpy as np\n",
        "import pandas as pd\n",
        "from scipy import stats\n",
        "import math\n",
        "import statistics\n",
        "import seaborn as sns"
      ],
      "execution_count": 8,
      "outputs": []
    },
    {
      "cell_type": "code",
      "metadata": {
        "id": "qZT0iLXHJgr-"
      },
      "source": [
        "## 輸入資料\n",
        "\n",
        "#你的程式碼\n",
        "boys=[164, 176, 169, 169, 165, 175, 159, 151, 144, 160, 183, 165, 156, 170,\n",
        " 164, 173, 165, 163, 177, 171]\n",
        "\n",
        "girls=[169,183,170,168,182,170,173,185,151,156,162,169,162,181,159,154,167,175,170,160] "
      ],
      "execution_count": 9,
      "outputs": []
    },
    {
      "cell_type": "code",
      "metadata": {
        "colab": {
          "base_uri": "https://localhost:8080/"
        },
        "id": "f8qHu9VMJgr_",
        "outputId": "fa39d7e0-e305-4845-b617-8bd1c01677f9"
      },
      "source": [
        "#Q1:試著用今天所教的內容，如何描述這兩組資料的樣態?\n",
        "#暗示:  分別計算男生和女生的統計量\n",
        "mean_boy=np.mean(boys)\n",
        "mean_girl=np.mean(girls)\n",
        "\n",
        "#print(mean_boy)\n",
        "mode_boy=stats.mode(boys,axis=None)\n",
        "mode_girl=stats.mode(girls,axis=None)\n",
        "\n",
        "#print(mode_boy[0][0])\n",
        "print(\"男生平均身高:{}\\n男生身高眾數:{}\".format(mean_boy,mode_boy[0][0]))\n",
        "print(\"女生平均身高:{}\\n女生身高眾數:{}\".format(mean_girl,mode_girl[0][0]))\n"
      ],
      "execution_count": 53,
      "outputs": [
        {
          "output_type": "stream",
          "text": [
            "男生平均身高:165.95\n",
            "男生身高眾數:165\n",
            "女生平均身高:168.3\n",
            "女生身高眾數:170\n"
          ],
          "name": "stdout"
        }
      ]
    },
    {
      "cell_type": "code",
      "metadata": {
        "colab": {
          "base_uri": "https://localhost:8080/"
        },
        "id": "kMHXBp0h3Sc5",
        "outputId": "4b9d84d8-0981-45ca-c5e9-518dd6f27cbf"
      },
      "source": [
        "#完整統計量算法\r\n",
        "\r\n",
        "mean_boy=np.mean(boys)\r\n",
        "print(\"男孩身高平均=\",mean_boy)\r\n",
        "mean_girl=np.mean(girls)\r\n",
        "print(\"女孩身高平均=\",mean_girl)\r\n",
        "\r\n",
        "# 計算統計量_中位數的方法\r\n",
        "np_median_boy=np.median(boys,axis=None)\r\n",
        "print(\"男孩身高中位數=\",np_median_boy)\r\n",
        "np_median_girl=np.median(girls,axis=None)\r\n",
        "print(\"女孩身高中位數=\",np_median_girl)\r\n",
        "\r\n",
        "#計算統計量_眾數\r\n",
        "mode_boy=stats.mode(boys,axis=None)\r\n",
        "print(\"男孩身高眾數=\",mode_boy[0][0])\r\n",
        "\r\n",
        "mode_girl=stats.mode(girls,axis=None)\r\n",
        "print(\"女孩身高眾數=\",mode_girl[0][0])\r\n",
        "\r\n",
        "#計算全距:\r\n",
        "def rangeV(x): \r\n",
        "  return(max(x)-min(x))\r\n",
        "    \r\n",
        "print(\"男孩身高全距=\",rangeV(boys))\r\n",
        "print(\"女孩身高全距=\",rangeV(girls))\r\n",
        "\r\n",
        "#計算變異數\r\n",
        "print(\"男孩身高變異數=\",np.var(boys,ddof=1))\r\n",
        "print(\"男孩身高變異數=\",np.var(girls,ddof=1))\r\n",
        "\r\n",
        "\r\n",
        "#計算標準差\r\n",
        "std_boy=np.std(boys,ddof=1)\r\n",
        "print(\"男孩身高標準差=\",std_boy)\r\n",
        "std_girl=np.std(girls,ddof=1)\r\n",
        "print(\"女孩身高標準差=\",std_girl)\r\n",
        "\r\n",
        "## python 百分位數\r\n",
        "#np\r\n",
        "print(\"男孩身高90百分位數=\",np.percentile(boys, 90))\r\n",
        "print(\"男孩身高50百分位數=\",np.percentile(boys, 50))\r\n",
        "print(\"男孩身高20百分位數=\",np.percentile(boys, 20))\r\n",
        "\r\n",
        "print(\"女孩身高90百分位數=\",np.percentile(girls, 90))\r\n",
        "print(\"女孩身高50百分位數=\",np.percentile(girls, 50))\r\n",
        "print(\"女孩身高20百分位數=\",np.percentile(girls, 20))\r\n",
        "\r\n",
        "\r\n",
        "#計算峰度和偏度\r\n",
        "print(\"男孩身高偏度=\",stats.skew(boys))\r\n",
        "print(\"男孩身高峰度=\",stats.kurtosis(boys))\r\n",
        "\r\n",
        "print(\"女孩身高偏度=\",stats.skew(girls))\r\n",
        "print(\"女孩身高峰度=\",stats.kurtosis(girls))"
      ],
      "execution_count": 64,
      "outputs": [
        {
          "output_type": "stream",
          "text": [
            "男孩身高平均= 165.95\n",
            "女孩身高平均= 168.3\n",
            "男孩身高中位數= 165.0\n",
            "女孩身高中位數= 169.0\n",
            "男孩身高眾數= 165\n",
            "女孩身高眾數= 170\n",
            "男孩身高全距= 39\n",
            "女孩身高全距= 34\n",
            "男孩身高變異數= 84.89210526315789\n",
            "男孩身高變異數= 95.37894736842104\n",
            "男孩身高標準差= 9.213691185575838\n",
            "女孩身高標準差= 9.766214587465353\n",
            "男孩身高90百分位數= 176.1\n",
            "男孩身高50百分位數= 165.0\n",
            "男孩身高20百分位數= 159.8\n",
            "女孩身高90百分位數= 182.1\n",
            "女孩身高50百分位數= 169.0\n",
            "女孩身高20百分位數= 159.8\n",
            "男孩身高偏度= -0.47132127317376954\n",
            "男孩身高峰度= 0.19395882957876331\n",
            "女孩身高偏度= 0.05985321129365068\n",
            "女孩身高峰度= -0.8203607083948947\n"
          ],
          "name": "stdout"
        }
      ]
    },
    {
      "cell_type": "code",
      "metadata": {
        "id": "V_bzzE9QJgsA",
        "outputId": "aa6e68c4-1e31-4609-a018-1ee48d19e881"
      },
      "source": [
        "#Q2: 請問男生和女生在平均身高上誰比較高? \n",
        "'''\n",
        "你的答案\n",
        "'''\n",
        "#女生"
      ],
      "execution_count": null,
      "outputs": [
        {
          "output_type": "execute_result",
          "data": {
            "text/plain": [
              "'\\n你的答案\\n'"
            ]
          },
          "metadata": {
            "tags": []
          },
          "execution_count": 4
        }
      ]
    },
    {
      "cell_type": "code",
      "metadata": {
        "id": "5_fFT2n2JgsB",
        "outputId": "40f7f8c0-6d7b-40c1-de99-84c75a463262"
      },
      "source": [
        "#Q3:請問第二題的答案和日常生活中觀察的一致嗎? 如果不一致，你覺得原因可能為何? \n",
        "'''\n",
        "你的答案\n",
        "'''\n",
        "#不同\n",
        "#因為抽樣樣本不夠大，所以不能代表母體"
      ],
      "execution_count": null,
      "outputs": [
        {
          "output_type": "execute_result",
          "data": {
            "text/plain": [
              "'\\n你的答案\\n'"
            ]
          },
          "metadata": {
            "tags": []
          },
          "execution_count": 5
        }
      ]
    },
    {
      "cell_type": "code",
      "metadata": {
        "colab": {
          "base_uri": "https://localhost:8080/",
          "height": 281
        },
        "id": "xlzI9id91Ykh",
        "outputId": "ff768391-75c9-46c5-bfcf-f99475152789"
      },
      "source": [
        "plt.hist(boys,alpha=.4,bins=40)\r\n",
        "plt.hist(girls,alpha=.4,bins=40)\r\n",
        "\r\n",
        "plt.title('boy,skewness={0},kurtosis={1}'.format(round(stats.skew(boys),2),round(stats.kurtosis(boys),2)))\r\n",
        "plt.axvline(x=mean_boy)\r\n",
        "plt.axvline(x=mean_girl)\r\n",
        "plt.show()"
      ],
      "execution_count": 63,
      "outputs": [
        {
          "output_type": "display_data",
          "data": {
            "image/png": "[encoded data removed]",
            "text/plain": [
              "<Figure size 432x288 with 1 Axes>"
            ]
          },
          "metadata": {
            "tags": [],
            "needs_background": "light"
          }
        }
      ]
    },
    {
      "cell_type": "code",
      "metadata": {
        "id": "Uox9M6IY1i6C"
      },
      "source": [
        ""
      ],
      "execution_count": null,
      "outputs": []
    }
  ]
}