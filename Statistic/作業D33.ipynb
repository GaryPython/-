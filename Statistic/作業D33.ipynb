{
  "nbformat": 4,
  "nbformat_minor": 0,
  "metadata": {
    "colab": {
      "name": "作業D33.ipynb",
      "provenance": [],
      "collapsed_sections": [],
      "include_colab_link": true
    },
    "kernelspec": {
      "display_name": "Python 3",
      "language": "python",
      "name": "python3"
    },
    "language_info": {
      "codemirror_mode": {
        "name": "ipython",
        "version": 3
      },
      "file_extension": ".py",
      "mimetype": "text/x-python",
      "name": "python",
      "nbconvert_exporter": "python",
      "pygments_lexer": "ipython3",
      "version": "3.6.1"
    }
  },
  "cells": [
    {
      "cell_type": "markdown",
      "metadata": {
        "id": "view-in-github",
        "colab_type": "text"
      },
      "source": [
        "<a href=\"https://colab.research.google.com/github/GaryPython/Data-science-marathon/blob/main/Statistic/%E4%BD%9C%E6%A5%ADD33.ipynb\" target=\"_parent\"><img src=\"https://colab.research.google.com/assets/colab-badge.svg\" alt=\"Open In Colab\"/></a>"
      ]
    },
    {
      "cell_type": "markdown",
      "metadata": {
        "id": "8v0W0BUj0ioR"
      },
      "source": [
        "## 作業:\n",
        "某工廠想知道兩條不同的生產線的產品不良率是否有所不同，由兩條生產線中各抽取 300 個樣本，第一組有  75 個不良品，第二組有 30 個不良品，我們可以宣稱生產線所生產出的產品不良率不相同? (以 0.05 為顯著水準)?    \n",
        "(提示:透過課程投影片的步驟，需思考 𝐻_0、 𝐻_1 的寫法和範例不同唷。)   \n",
        "\n"
      ]
    },
    {
      "cell_type": "code",
      "metadata": {
        "collapsed": true,
        "id": "yz28_IgkYdBW"
      },
      "source": [
        "# library\n",
        "import matplotlib.pyplot as plt\n",
        "import numpy as np\n",
        "import pandas as pd\n",
        "from scipy import stats\n",
        "import math\n",
        "import statistics\n",
        "import seaborn as sns\n",
        "import math"
      ],
      "execution_count": 2,
      "outputs": []
    },
    {
      "cell_type": "code",
      "metadata": {
        "colab": {
          "base_uri": "https://localhost:8080/"
        },
        "id": "vrGq5WuV0ioV",
        "outputId": "4b006a24-ab3c-4764-a61c-e87c38717f54"
      },
      "source": [
        "'''\n",
        "你的答案\n",
        "'''\n",
        "mu=0\n",
        "sigma=1\n",
        "print(math.sqrt(0.25*0.75/299+0.1*0.9/299))\n",
        "x=-0.15/math.sqrt(0.25*0.75/299+0.1*0.9/299)\n",
        "cumsum_probs =  stats.norm.cdf(x,mu, sigma)\n",
        "print(x)\n",
        "print(cumsum_probs )"
      ],
      "execution_count": 3,
      "outputs": [
        {
          "output_type": "stream",
          "text": [
            "0.030464629416504477\n",
            "-4.9237428083972095\n",
            "4.245220572416233e-07\n"
          ],
          "name": "stdout"
        }
      ]
    },
    {
      "cell_type": "code",
      "metadata": {
        "colab": {
          "base_uri": "https://localhost:8080/"
        },
        "id": "_slJEfpQ3d94",
        "outputId": "6ac17b0b-f847-4482-c4ea-5bd63b0b4722"
      },
      "source": [
        "import statsmodels.stats.proportion\r\n",
        "A = [75,30] # 有開信的個數\r\n",
        "B = [300,300] #各組實驗總個數\r\n",
        "statsmodels.stats.proportion.proportions_ztest(A, B, alternative='two-sided')"
      ],
      "execution_count": 5,
      "outputs": [
        {
          "output_type": "execute_result",
          "data": {
            "text/plain": [
              "(4.834937784152282, 1.3318728439003627e-06)"
            ]
          },
          "metadata": {
            "tags": []
          },
          "execution_count": 5
        }
      ]
    },
    {
      "cell_type": "code",
      "metadata": {
        "id": "ek9wpyG_3rG5"
      },
      "source": [
        "#0.05 為顯著水準，拒絕 H0，所以兩個產品的不良率不相同"
      ],
      "execution_count": null,
      "outputs": []
    }
  ]
}