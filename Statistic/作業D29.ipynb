{
  "nbformat": 4,
  "nbformat_minor": 0,
  "metadata": {
    "colab": {
      "name": "作業D29.ipynb",
      "provenance": [],
      "collapsed_sections": [],
      "include_colab_link": true
    },
    "kernelspec": {
      "display_name": "Python 3",
      "language": "python",
      "name": "python3"
    },
    "language_info": {
      "codemirror_mode": {
        "name": "ipython",
        "version": 3
      },
      "file_extension": ".py",
      "mimetype": "text/x-python",
      "name": "python",
      "nbconvert_exporter": "python",
      "pygments_lexer": "ipython3",
      "version": "3.6.1"
    }
  },
  "cells": [
    {
      "cell_type": "markdown",
      "metadata": {
        "id": "view-in-github",
        "colab_type": "text"
      },
      "source": [
        "<a href=\"https://colab.research.google.com/github/GaryPython/Data-science-marathon/blob/main/Statistic/%E4%BD%9C%E6%A5%ADD29.ipynb\" target=\"_parent\"><img src=\"https://colab.research.google.com/assets/colab-badge.svg\" alt=\"Open In Colab\"/></a>"
      ]
    },
    {
      "cell_type": "markdown",
      "metadata": {
        "id": "LH6K-_KGKkFO"
      },
      "source": [
        "## 作業:\n",
        "作業目標，讓大家熟悉連續型分配的語法，\n",
        "以及怎麼透過 python 語法進行常態分配的機率運算。\n"
      ]
    },
    {
      "cell_type": "markdown",
      "metadata": {
        "id": "C1kAyh-bKkFR"
      },
      "source": [
        "### Q1:計算標準常態分配，小於1的機率有多大?\n",
        "![](Q1.png)"
      ]
    },
    {
      "cell_type": "code",
      "metadata": {
        "collapsed": true,
        "id": "yz28_IgkYdBW"
      },
      "source": [
        "# library\n",
        "import matplotlib.pyplot as plt\n",
        "import numpy as np\n",
        "import pandas as pd\n",
        "from scipy import stats\n",
        "import math\n",
        "import statistics\n",
        "import seaborn as sns"
      ],
      "execution_count": 1,
      "outputs": []
    },
    {
      "cell_type": "code",
      "metadata": {
        "colab": {
          "base_uri": "https://localhost:8080/"
        },
        "id": "JByYbyVnKkFT",
        "outputId": "65639e11-d897-4054-d430-653e00874247"
      },
      "source": [
        "## Q1\n",
        "#  提示: 用 cdf 來算\n",
        "mu=0\n",
        "sigma=1\n",
        "b = stats.norm.cdf(1,mu, sigma)\n",
        "print(\"P(Z<1)=\",b)\n"
      ],
      "execution_count": 20,
      "outputs": [
        {
          "output_type": "stream",
          "text": [
            "P(Z<1)= 0.8413447460685429\n"
          ],
          "name": "stdout"
        }
      ]
    },
    {
      "cell_type": "markdown",
      "metadata": {
        "id": "IXBl1I7tKkFT"
      },
      "source": [
        "### Q2:計算標準常態分配，大於1，小於 -1 的機率有多大?\n",
        "![](Q2.png)\n"
      ]
    },
    {
      "cell_type": "code",
      "metadata": {
        "id": "fvoz1DUqKkFU",
        "outputId": "046a9870-ff53-4fbc-9f58-1515b68ff0ee"
      },
      "source": [
        "## Q2\n",
        "'''\n",
        "你的程式碼\n",
        "'''"
      ],
      "execution_count": null,
      "outputs": [
        {
          "output_type": "execute_result",
          "data": {
            "text/plain": [
              "'\\n你的程式碼\\n'"
            ]
          },
          "metadata": {
            "tags": []
          },
          "execution_count": 3
        }
      ]
    },
    {
      "cell_type": "code",
      "metadata": {
        "colab": {
          "base_uri": "https://localhost:8080/"
        },
        "id": "53aKXgzgO7Ao",
        "outputId": "1b280203-6fa9-44d7-ef9b-83c8ed520a72"
      },
      "source": [
        "mu=0\r\n",
        "sigma=1\r\n",
        "b=  stats.norm.cdf(1,mu, sigma)\r\n",
        "a=  stats.norm.cdf(-1,mu, sigma)\r\n",
        "print(\"P(Z>1 or Z<-1)=\",1-(b-a))"
      ],
      "execution_count": 21,
      "outputs": [
        {
          "output_type": "stream",
          "text": [
            "P(Z>1 or Z<-1)= 0.31731050786291415\n"
          ],
          "name": "stdout"
        }
      ]
    },
    {
      "cell_type": "markdown",
      "metadata": {
        "id": "uCTblSj3KkFV"
      },
      "source": [
        "### Q3:X~N(2,4),x 服從常態分配，平均數為2,變異數為 4，計算 X小於 6 的機率有多大?"
      ]
    },
    {
      "cell_type": "code",
      "metadata": {
        "colab": {
          "base_uri": "https://localhost:8080/"
        },
        "id": "DZSPy8SkKkFW",
        "outputId": "518f6706-b3cb-4125-8644-e4282c766ff0"
      },
      "source": [
        "## Q3\n",
        "#  提示: 和 Q1,Q2 不同，要先標準化。\n",
        "'''\n",
        "你的程式碼\n",
        "'''\n",
        "\n",
        "mu=2\n",
        "sigma=2 #變異數開根號\n",
        "b=stats.norm.cdf(6,mu, sigma)\n",
        "print(\"P(X<6)=\",b)\n"
      ],
      "execution_count": 24,
      "outputs": [
        {
          "output_type": "stream",
          "text": [
            "P(X<6)= 0.9772498680518208\n"
          ],
          "name": "stdout"
        }
      ]
    },
    {
      "cell_type": "code",
      "metadata": {
        "id": "JKMb5xm_PUre"
      },
      "source": [
        ""
      ],
      "execution_count": null,
      "outputs": []
    }
  ]
}