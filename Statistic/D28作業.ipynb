{
  "nbformat": 4,
  "nbformat_minor": 0,
  "metadata": {
    "colab": {
      "name": "D28作業.ipynb",
      "provenance": [],
      "collapsed_sections": [],
      "include_colab_link": true
    },
    "kernelspec": {
      "display_name": "Python 3",
      "language": "python",
      "name": "python3"
    },
    "language_info": {
      "codemirror_mode": {
        "name": "ipython",
        "version": 3
      },
      "file_extension": ".py",
      "mimetype": "text/x-python",
      "name": "python",
      "nbconvert_exporter": "python",
      "pygments_lexer": "ipython3",
      "version": "3.6.1"
    }
  },
  "cells": [
    {
      "cell_type": "markdown",
      "metadata": {
        "id": "view-in-github",
        "colab_type": "text"
      },
      "source": [
        "<a href=\"https://colab.research.google.com/github/GaryPython/Data-science-marathon/blob/main/Statistic/D28%E4%BD%9C%E6%A5%AD.ipynb\" target=\"_parent\"><img src=\"https://colab.research.google.com/assets/colab-badge.svg\" alt=\"Open In Colab\"/></a>"
      ]
    },
    {
      "cell_type": "markdown",
      "metadata": {
        "id": "DdtYScqPZ0UV"
      },
      "source": [
        "## 作業:\n",
        "今天學到五種分配，包含，   \n",
        "離散均勻分配( Discrete Uniform Distribution )   \n",
        "伯努利分配( Bernoulli Distribution )   \n",
        "二項分配(Binomial Distribution)  \n",
        "負二項分配(Negative Binomial Distribution)  \n",
        "超幾何分配(Hypergeometric Distribution)   \n",
        "今天我們透過作業中的問題，回想今天的內容吧!  "
      ]
    },
    {
      "cell_type": "markdown",
      "metadata": {
        "id": "7coMdKz7Z0UW"
      },
      "source": [
        "### Q1: 大樂透的頭獎，你必須從49個挑選出 6 個號碼，\n",
        "### 且這六個號碼與頭獎的六個號碼一致，頭獎的機率是屬於哪一種分配?"
      ]
    },
    {
      "cell_type": "code",
      "metadata": {
        "collapsed": true,
        "id": "XXccgV0_Z0UX"
      },
      "source": [
        "''''\n",
        "你的答案\n",
        "超幾何\n",
        "''''"
      ],
      "execution_count": null,
      "outputs": []
    },
    {
      "cell_type": "markdown",
      "metadata": {
        "id": "iGG1vZLvZ0UX"
      },
      "source": [
        "### Q2: 運用範例的 python 程式碼，計算大樂透的中頭獎機率?"
      ]
    },
    {
      "cell_type": "code",
      "metadata": {
        "collapsed": true,
        "id": "pbkCcBEuZ0UX"
      },
      "source": [
        "\n",
        "#你的程式碼\n",
        "#記得要 import 套件\n",
        "\n",
        "# library\n",
        "import matplotlib.pyplot as plt\n",
        "import numpy as np\n",
        "import pandas as pd\n",
        "from scipy import stats\n",
        "import math\n",
        "import statistics"
      ],
      "execution_count": 2,
      "outputs": []
    },
    {
      "cell_type": "code",
      "metadata": {
        "colab": {
          "base_uri": "https://localhost:8080/"
        },
        "id": "_VUSg8tLFnUI",
        "outputId": "dc9c6305-1086-4666-a86a-bdfabd78544a"
      },
      "source": [
        "probs = stats.hypergeom.pmf(6,49,6,6)\r\n",
        "print(\"中頭獎的機率為==\",probs)"
      ],
      "execution_count": 3,
      "outputs": [
        {
          "output_type": "stream",
          "text": [
            "中頭獎的機率為== 7.151123842018523e-08\n"
          ],
          "name": "stdout"
        }
      ]
    },
    {
      "cell_type": "markdown",
      "metadata": {
        "id": "NS3pkbxwZ0UX"
      },
      "source": [
        "### Q3: 你覺得電腦簽注的中獎機率，和人腦簽注相比，哪一個機率高?"
      ]
    },
    {
      "cell_type": "code",
      "metadata": {
        "collapsed": true,
        "id": "ly49agpLZ0UY"
      },
      "source": [
        "''''\n",
        "你的答案\n",
        "一樣\n",
        "''''\n"
      ],
      "execution_count": null,
      "outputs": []
    }
  ]
}